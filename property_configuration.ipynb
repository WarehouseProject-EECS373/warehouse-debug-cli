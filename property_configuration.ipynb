{
 "cells": [
  {
   "cell_type": "code",
   "execution_count": 2,
   "id": "2d40c494",
   "metadata": {},
   "outputs": [],
   "source": [
    "from wdc.targets.zumo import ZumoTarget, PTYPE, PROPERTY_ID"
   ]
  },
  {
   "cell_type": "code",
   "execution_count": 3,
   "id": "d49065c1",
   "metadata": {},
   "outputs": [],
   "source": [
    "zumo = ZumoTarget(\"/dev/cu.usbserial-A9SCLUOH\", 115200)"
   ]
  },
  {
   "cell_type": "code",
   "execution_count": 4,
   "id": "24de342f",
   "metadata": {},
   "outputs": [
    {
     "data": {
      "text/plain": [
       "0"
      ]
     },
     "execution_count": 4,
     "metadata": {},
     "output_type": "execute_result"
    }
   ],
   "source": [
    "zumo.get_property(PROPERTY_ID.DRIVE_STATE, PTYPE.U32)"
   ]
  },
  {
   "cell_type": "code",
   "execution_count": 5,
   "id": "7ca33af4",
   "metadata": {},
   "outputs": [
    {
     "data": {
      "text/plain": [
       "0.00039999998989515007"
      ]
     },
     "execution_count": 5,
     "metadata": {},
     "output_type": "execute_result"
    }
   ],
   "source": [
    "zumo.get_property(PROPERTY_ID.DRIVE_kP, PTYPE.FLOAT)"
   ]
  },
  {
   "cell_type": "code",
   "execution_count": 6,
   "id": "1761f1f2",
   "metadata": {},
   "outputs": [],
   "source": [
    "zumo.set_pid(2.0, 3.0, 4.0)"
   ]
  },
  {
   "cell_type": "code",
   "execution_count": 7,
   "id": "01f700bb",
   "metadata": {},
   "outputs": [
    {
     "data": {
      "text/plain": [
       "{'p': 2.0, 'i': 3.0, 'd': 4.0}"
      ]
     },
     "execution_count": 7,
     "metadata": {},
     "output_type": "execute_result"
    }
   ],
   "source": [
    "zumo.get_pid()"
   ]
  },
  {
   "cell_type": "code",
   "execution_count": null,
   "id": "6a91ef60",
   "metadata": {},
   "outputs": [],
   "source": []
  },
  {
   "cell_type": "code",
   "execution_count": 6,
   "id": "2b631c2a",
   "metadata": {},
   "outputs": [],
   "source": [
    "end_device = ZumoTarget('/dev/cu.usbserial-0001', 115200)"
   ]
  },
  {
   "cell_type": "code",
   "execution_count": 14,
   "id": "f6d7193f",
   "metadata": {},
   "outputs": [],
   "source": [
    "end_device.write(b\"hello\\r\")"
   ]
  },
  {
   "cell_type": "code",
   "execution_count": null,
   "id": "a10be388",
   "metadata": {},
   "outputs": [],
   "source": []
  }
 ],
 "metadata": {
  "kernelspec": {
   "display_name": "warehouse-debug-cli-Ce5Zg_In",
   "language": "python",
   "name": "warehouse-debug-cli-ce5zg_in"
  },
  "language_info": {
   "codemirror_mode": {
    "name": "ipython",
    "version": 3
   },
   "file_extension": ".py",
   "mimetype": "text/x-python",
   "name": "python",
   "nbconvert_exporter": "python",
   "pygments_lexer": "ipython3",
   "version": "3.9.5"
  }
 },
 "nbformat": 4,
 "nbformat_minor": 5
}
