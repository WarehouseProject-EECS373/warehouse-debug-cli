{
 "cells": [
  {
   "cell_type": "code",
   "execution_count": 1,
   "id": "2d40c494",
   "metadata": {},
   "outputs": [],
   "source": [
    "from wdc.targets.zumo import ZumoTarget, PTYPE, PROPERTY_ID"
   ]
  },
  {
   "cell_type": "code",
   "execution_count": 2,
   "id": "d49065c1",
   "metadata": {},
   "outputs": [],
   "source": [
    "zumo = ZumoTarget(\"/dev/cu.usbserial-0001\", 115200)"
   ]
  },
  {
   "cell_type": "code",
   "execution_count": 5,
   "id": "24de342f",
   "metadata": {},
   "outputs": [
    {
     "data": {
      "text/plain": [
       "0"
      ]
     },
     "execution_count": 5,
     "metadata": {},
     "output_type": "execute_result"
    }
   ],
   "source": [
    "zumo.get_property(PROPERTY_ID.DRIVE_STATE, PTYPE.U32)"
   ]
  },
  {
   "cell_type": "code",
   "execution_count": null,
   "id": "7ca33af4",
   "metadata": {},
   "outputs": [],
   "source": []
  }
 ],
 "metadata": {
  "kernelspec": {
   "display_name": "warehouse-debug-cli-Ce5Zg_In",
   "language": "python",
   "name": "warehouse-debug-cli-ce5zg_in"
  },
  "language_info": {
   "codemirror_mode": {
    "name": "ipython",
    "version": 3
   },
   "file_extension": ".py",
   "mimetype": "text/x-python",
   "name": "python",
   "nbconvert_exporter": "python",
   "pygments_lexer": "ipython3",
   "version": "3.9.5"
  }
 },
 "nbformat": 4,
 "nbformat_minor": 5
}
