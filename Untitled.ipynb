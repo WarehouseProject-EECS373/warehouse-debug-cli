{
 "cells": [
  {
   "cell_type": "code",
   "execution_count": 369,
   "id": "7bf601c9",
   "metadata": {},
   "outputs": [],
   "source": [
    "from wdc.targets.warehouse import BarcodeSimulator"
   ]
  },
  {
   "cell_type": "code",
   "execution_count": 370,
   "id": "53576899",
   "metadata": {},
   "outputs": [],
   "source": [
    "bc = BarcodeSimulator(\"/dev/cu.usbserial-00000000\", 9600)"
   ]
  },
  {
   "cell_type": "code",
   "execution_count": 374,
   "id": "1748debb",
   "metadata": {},
   "outputs": [],
   "source": [
    "bc.take_reading(1)"
   ]
  },
  {
   "cell_type": "code",
   "execution_count": 375,
   "id": "8679e62d",
   "metadata": {},
   "outputs": [],
   "source": [
    "bc.take_reading(2)"
   ]
  },
  {
   "cell_type": "code",
   "execution_count": 373,
   "id": "15c73d39",
   "metadata": {},
   "outputs": [],
   "source": [
    "bc.take_reading(3)"
   ]
  },
  {
   "cell_type": "code",
   "execution_count": 359,
   "id": "3958b11e",
   "metadata": {},
   "outputs": [],
   "source": [
    "bc.take_reading(4)"
   ]
  },
  {
   "cell_type": "code",
   "execution_count": 376,
   "id": "7a0f563d",
   "metadata": {},
   "outputs": [],
   "source": [
    "bc.take_reading(5)"
   ]
  },
  {
   "cell_type": "code",
   "execution_count": null,
   "id": "852332f5",
   "metadata": {},
   "outputs": [],
   "source": []
  }
 ],
 "metadata": {
  "kernelspec": {
   "display_name": "warehouse-debug-cli-Ce5Zg_In",
   "language": "python",
   "name": "warehouse-debug-cli-ce5zg_in"
  },
  "language_info": {
   "codemirror_mode": {
    "name": "ipython",
    "version": 3
   },
   "file_extension": ".py",
   "mimetype": "text/x-python",
   "name": "python",
   "nbconvert_exporter": "python",
   "pygments_lexer": "ipython3",
   "version": "3.9.5"
  }
 },
 "nbformat": 4,
 "nbformat_minor": 5
}
