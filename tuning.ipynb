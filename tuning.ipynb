{
 "cells": [
  {
   "cell_type": "code",
   "execution_count": 1,
   "id": "3bb73f55",
   "metadata": {},
   "outputs": [],
   "source": [
    "import time\n",
    "\n",
    "from wdc.plot import plot_drive_ctl_data\n",
    "from wdc.targets.zumo import ZumoTarget, MSG_ID, PTYPE, PROPERTY_ID"
   ]
  },
  {
   "cell_type": "code",
   "execution_count": 26,
   "id": "e1df7a74",
   "metadata": {},
   "outputs": [],
   "source": [
    "def test(aisle, bay):\n",
    "#     zumo = ZumoTarget(\"/dev/cu.usbserial-0001\", 115200, filtered=[MSG_ID.HEARTBEAT_MSG])\n",
    "    zumo = ZumoTarget(\"/dev/cu.usbserial-A9SCLUOH\", 115200, filtered=[MSG_ID.HEARTBEAT_MSG])\n",
    "    # reset log and start\n",
    "\n",
    "    time.sleep(19)\n",
    "    print(\"done\")\n",
    "\n",
    "\n",
    "    "
   ]
  },
  {
   "cell_type": "code",
   "execution_count": null,
   "id": "7d269cfa",
   "metadata": {},
   "outputs": [],
   "source": []
  },
  {
   "cell_type": "code",
   "execution_count": null,
   "id": "202fcc53",
   "metadata": {},
   "outputs": [],
   "source": [
    "# zumo.set_pid(0.00018, 0.00001, 0.0065, 1500.0)\n",
    "zumo.set_pid(0.0004, 0.000015, 0.0007, 800.0)\n",
    "\n",
    "# p = 0.00055 "
   ]
  },
  {
   "cell_type": "code",
   "execution_count": 32,
   "id": "37a057df",
   "metadata": {},
   "outputs": [],
   "source": [
    "zumo = ZumoTarget(\"/dev/cu.usbserial-00000000\", 115200, filtered=[MSG_ID.HEARTBEAT_MSG])\n",
    "zumo.drive_enable()"
   ]
  },
  {
   "cell_type": "code",
   "execution_count": null,
   "id": "335d3a58",
   "metadata": {},
   "outputs": [],
   "source": []
  },
  {
   "cell_type": "code",
   "execution_count": 64,
   "id": "e2d24c2d",
   "metadata": {},
   "outputs": [],
   "source": []
  },
  {
   "cell_type": "code",
   "execution_count": 40,
   "id": "dc365f64",
   "metadata": {},
   "outputs": [],
   "source": [
    "zumo.dispatch(2,4,0)"
   ]
  },
  {
   "cell_type": "code",
   "execution_count": 41,
   "id": "66b99fee",
   "metadata": {},
   "outputs": [],
   "source": [
    "zumo.dispatch(2,4,1)"
   ]
  },
  {
   "cell_type": "code",
   "execution_count": 42,
   "id": "888df10d",
   "metadata": {},
   "outputs": [],
   "source": [
    "zumo.dispatch(2,2,0)"
   ]
  },
  {
   "cell_type": "code",
   "execution_count": 157,
   "id": "f511cfa0",
   "metadata": {},
   "outputs": [],
   "source": [
    "zumo.dispatch(2,2,1)"
   ]
  },
  {
   "cell_type": "code",
   "execution_count": 43,
   "id": "480a3fe9",
   "metadata": {},
   "outputs": [],
   "source": [
    "zumo.dispatch(1,3,0)"
   ]
  },
  {
   "cell_type": "code",
   "execution_count": 39,
   "id": "d15494fc",
   "metadata": {},
   "outputs": [],
   "source": [
    "zumo.dispatch(1,1,1)"
   ]
  },
  {
   "cell_type": "code",
   "execution_count": null,
   "id": "556b3c60",
   "metadata": {},
   "outputs": [],
   "source": [
    "zumo.drive_disable()"
   ]
  },
  {
   "cell_type": "code",
   "execution_count": null,
   "id": "7e4d543e",
   "metadata": {},
   "outputs": [],
   "source": [
    "test(1,3)"
   ]
  },
  {
   "cell_type": "code",
   "execution_count": null,
   "id": "ca20e3d4",
   "metadata": {},
   "outputs": [],
   "source": []
  },
  {
   "cell_type": "code",
   "execution_count": 49,
   "id": "9a4bfcc2",
   "metadata": {},
   "outputs": [
    {
     "data": {
      "image/png": "[encoded data removed]",
      "text/plain": [
       "<Figure size 720x720 with 3 Axes>"
      ]
     },
     "metadata": {
      "needs_background": "light"
     },
     "output_type": "display_data"
    }
   ],
   "source": [
    "ctl_data = zumo.get_drive_ctl_data()\n",
    "plot_drive_ctl_data(ctl_data)"
   ]
  },
  {
   "cell_type": "code",
   "execution_count": 56,
   "id": "ab7c8ca5",
   "metadata": {},
   "outputs": [],
   "source": [
    "zumo = ZumoTarget(\"/dev/cu.usbserial-A9SCLUOH\", 115200, filtered=[MSG_ID.HEARTBEAT_MSG])\n",
    "zumo.drive_enable()"
   ]
  },
  {
   "cell_type": "code",
   "execution_count": 57,
   "id": "e6767ea4",
   "metadata": {},
   "outputs": [],
   "source": [
    "zumo.dispatch(1, 1)"
   ]
  },
  {
   "cell_type": "code",
   "execution_count": 58,
   "id": "82f14b3d",
   "metadata": {},
   "outputs": [],
   "source": [
    "zumo.dispatch(2, 4)"
   ]
  },
  {
   "cell_type": "code",
   "execution_count": 59,
   "id": "3ccb7b25",
   "metadata": {},
   "outputs": [],
   "source": [
    "zumo.dispatch(2, 2)"
   ]
  },
  {
   "cell_type": "code",
   "execution_count": 13,
   "id": "832f2624",
   "metadata": {},
   "outputs": [],
   "source": [
    "zumo.dispatch(1, 3)"
   ]
  },
  {
   "cell_type": "code",
   "execution_count": 14,
   "id": "a2da9ed3",
   "metadata": {},
   "outputs": [],
   "source": [
    "zumo.dispatch(1, 1)"
   ]
  },
  {
   "cell_type": "code",
   "execution_count": null,
   "id": "64c7a605",
   "metadata": {},
   "outputs": [],
   "source": [
    "# zumo.start_line_follow(2, base_velocity=0.40)\n",
    "# zumo.start_turn(left_out=-0.6, right_out=0.45, mode=0x1, base_velocity=0.40)\n",
    "# zumo.start_turn(left_out=0.45, right_out=-0.6, mode=0x1, base_velocity=0.40)\n",
    "# zumo.start_line_follow(8, base_velocity=0.40)\n",
    "# zumo.start_180_turn(left_out=-0.5, right_out=0.5, mode=0x1, base_velocity=0.4, rev_velocity=-0.3, post_turn_left=-0.3, post_turn_right=0.3)\n",
    "\n"
   ]
  }
 ],
 "metadata": {
  "kernelspec": {
   "display_name": "warehouse-debug-cli-Ce5Zg_In",
   "language": "python",
   "name": "warehouse-debug-cli-ce5zg_in"
  },
  "language_info": {
   "codemirror_mode": {
    "name": "ipython",
    "version": 3
   },
   "file_extension": ".py",
   "mimetype": "text/x-python",
   "name": "python",
   "nbconvert_exporter": "python",
   "pygments_lexer": "ipython3",
   "version": "3.9.5"
  }
 },
 "nbformat": 4,
 "nbformat_minor": 5
}
